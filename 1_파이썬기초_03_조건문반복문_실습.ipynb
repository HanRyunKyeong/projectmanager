{
  "cells": [
    {
      "cell_type": "markdown",
      "metadata": {
        "id": "view-in-github",
        "colab_type": "text"
      },
      "source": [
        "<a href=\"https://colab.research.google.com/github/HanRyunKyeong/projectmanager/blob/main/1_%E1%84%91%E1%85%A1%E1%84%8B%E1%85%B5%E1%84%8A%E1%85%A5%E1%86%AB%E1%84%80%E1%85%B5%E1%84%8E%E1%85%A9_03_%E1%84%8C%E1%85%A9%E1%84%80%E1%85%A5%E1%86%AB%E1%84%86%E1%85%AE%E1%86%AB%E1%84%87%E1%85%A1%E1%86%AB%E1%84%87%E1%85%A9%E1%86%A8%E1%84%86%E1%85%AE%E1%86%AB_%EC%8B%A4%EC%8A%B5.ipynb\" target=\"_parent\"><img src=\"https://colab.research.google.com/assets/colab-badge.svg\" alt=\"Open In Colab\"/></a>"
      ]
    },
    {
      "cell_type": "markdown",
      "id": "25f81d8c",
      "metadata": {
        "id": "25f81d8c"
      },
      "source": [
        "# 파이썬 기초 다지기"
      ]
    },
    {
      "cell_type": "markdown",
      "id": "3f3da3bd",
      "metadata": {
        "id": "3f3da3bd"
      },
      "source": [
        "## 3- 조건문과 반복문\n",
        "데이터와 처리의 흐름을 제어하는 조건문과 반목문"
      ]
    },
    {
      "cell_type": "markdown",
      "id": "0c52a67e",
      "metadata": {
        "id": "0c52a67e"
      },
      "source": [
        "----------------------------------"
      ]
    },
    {
      "cell_type": "markdown",
      "id": "aee8f2e8",
      "metadata": {
        "id": "aee8f2e8"
      },
      "source": [
        "## 3-1.if 조건문"
      ]
    },
    {
      "cell_type": "markdown",
      "id": "e89f3546",
      "metadata": {
        "id": "e89f3546"
      },
      "source": [
        "### 조건문: if"
      ]
    },
    {
      "cell_type": "code",
      "execution_count": null,
      "id": "4f161d86",
      "metadata": {
        "colab": {
          "base_uri": "https://localhost:8080/"
        },
        "id": "4f161d86",
        "outputId": "c43bfa86-e658-4db5-f456-72ac476949a2"
      },
      "outputs": [
        {
          "output_type": "stream",
          "name": "stdout",
          "text": [
            "숫자를 입력하세요300\n",
            "300는 100보다 크군요!\n"
          ]
        }
      ],
      "source": [
        "a = int(input('숫자를 입력하세요'))\n",
        "if a > 100:\n",
        "    print(f'{a}는 100보다 크군요!')\n"
      ]
    },
    {
      "cell_type": "markdown",
      "id": "cb89ea65",
      "metadata": {
        "id": "cb89ea65"
      },
      "source": [
        "### 조건문: if ~ else"
      ]
    },
    {
      "cell_type": "code",
      "execution_count": null,
      "id": "6eca2413",
      "metadata": {
        "colab": {
          "base_uri": "https://localhost:8080/"
        },
        "id": "6eca2413",
        "outputId": "89e65891-1b10-4751-a600-f861565fa597"
      },
      "outputs": [
        {
          "output_type": "stream",
          "name": "stdout",
          "text": [
            "숫자를 입력하세요100\n",
            "100는 100보다 크지 않군요!\n"
          ]
        }
      ],
      "source": [
        "a = int(input('숫자를 입력하세요'))\n",
        "if a > 100:\n",
        "    print(f'{a}는 100보다 크군요!')\n",
        "else:\n",
        "    print(f'{a}는 100보다 크지 않군요!')\n"
      ]
    },
    {
      "cell_type": "markdown",
      "id": "13b404bd",
      "metadata": {
        "id": "13b404bd"
      },
      "source": [
        "### 조건문 : 중첩if"
      ]
    },
    {
      "cell_type": "code",
      "execution_count": null,
      "id": "9575f530",
      "metadata": {
        "colab": {
          "base_uri": "https://localhost:8080/"
        },
        "id": "9575f530",
        "outputId": "eff4ed72-e82f-4431-d2f2-6214c701d591"
      },
      "outputs": [
        {
          "output_type": "stream",
          "name": "stdout",
          "text": [
            "숫자를 입력하세요100\n",
            "100는 100과 같군요!\n"
          ]
        }
      ],
      "source": [
        "a = int(input('숫자를 입력하세요'))\n",
        "if a > 100:\n",
        "    print(f'{a}는 100보다 크군요!')\n",
        "    if a >200:\n",
        "      print(f'{a}는 200보다 크군요!')\n",
        "    else:\n",
        "        print(f'{a}는 200보다 같거나 크지 않군요!')\n",
        "else:\n",
        "    if a ==100:\n",
        "      print(f'{a}는 100과 같군요!')\n",
        "    else:\n",
        "      print(f'{a}는 100보다 작군요!')\n",
        "\n"
      ]
    },
    {
      "cell_type": "markdown",
      "source": [
        "### 조건문 : if ~ elif ~ else"
      ],
      "metadata": {
        "id": "EDMvOOKDi-PH"
      },
      "id": "EDMvOOKDi-PH"
    },
    {
      "cell_type": "code",
      "source": [
        "a = int(input('숫자를 입력하세요'))\n",
        "if a >200:\n",
        "  print(f'{a}는 200보다 크군요!')\n",
        "elif a > 100:\n",
        "  print(f'{a}는 100보다 크고 200보다 작거나 같군요!')\n",
        "elif a == 100:\n",
        "  print(f'{a}는 100과 같군요!')\n",
        "else:\n",
        "  print(f'{a}는 100보다 작군요!')"
      ],
      "metadata": {
        "id": "eAdjsmkNjIrx"
      },
      "id": "eAdjsmkNjIrx",
      "execution_count": null,
      "outputs": []
    },
    {
      "cell_type": "markdown",
      "id": "349dec8b",
      "metadata": {
        "id": "349dec8b"
      },
      "source": [
        "### [실습문제] 짝수/홀수 판별하기"
      ]
    },
    {
      "cell_type": "code",
      "execution_count": null,
      "id": "de48c13d",
      "metadata": {
        "colab": {
          "base_uri": "https://localhost:8080/"
        },
        "id": "de48c13d",
        "outputId": "7ae74b7b-642b-46b4-b0a7-ad2d31382b4b"
      },
      "outputs": [
        {
          "output_type": "stream",
          "name": "stdout",
          "text": [
            "숫자를 입력해 주세요: 31\n",
            "31는 홀수입니다\n"
          ]
        }
      ],
      "source": [
        "x = int(input('숫자를 입력해 주세요: '))\n",
        "if x%2 == 0: #짝수, 홀수 판별하기\n",
        "    print(f'{x}는 짝수입니다')\n",
        "else:\n",
        "    print(f'{x}는 홀수입니다')\n",
        "\n"
      ]
    },
    {
      "cell_type": "code",
      "source": [
        "# 멤버십 연산자 사용해서 조건문 판별하기\n",
        "a = [1,2,3,4,5]\n",
        "x = 7\n",
        "if 4 in a:\n",
        "    print(f'4는 {a} 리스트에 포함되어 있습니다.')\n",
        "else:\n",
        "    print(f'4는 {a} 리스트에 포함되어 있지 않습니다.')"
      ],
      "metadata": {
        "colab": {
          "base_uri": "https://localhost:8080/"
        },
        "id": "JOmyvWb0l6wu",
        "outputId": "ba13be6b-9dec-465c-ec32-286d4f862a8e"
      },
      "id": "JOmyvWb0l6wu",
      "execution_count": null,
      "outputs": [
        {
          "output_type": "stream",
          "name": "stdout",
          "text": [
            "4는 [1, 2, 3, 4, 5] 리스트에 포함되어 있습니다.\n"
          ]
        }
      ]
    },
    {
      "cell_type": "markdown",
      "id": "30919e6b",
      "metadata": {
        "id": "30919e6b"
      },
      "source": [
        "### [실습문제]\n",
        "피타고라스 정리에 의해 직각삼각형의 세 변의 길이에 대한 관계는 아래와 같습니다. 이 정리를 이용하여 세 변의 길이를 입력 받은 삼각형이 직각삼각형인지 아닌지 판별하는 프로그램을 만들어 보세요.\n"
      ]
    },
    {
      "cell_type": "code",
      "execution_count": null,
      "id": "f6e6ca29",
      "metadata": {
        "scrolled": false,
        "colab": {
          "base_uri": "https://localhost:8080/"
        },
        "id": "f6e6ca29",
        "outputId": "bb2ba8e4-95a1-43bb-8e62-12d1a0da952c"
      },
      "outputs": [
        {
          "output_type": "stream",
          "name": "stdout",
          "text": [
            "변 a의 길이: 3\n",
            "변 b의 길이: 4\n",
            "변 c의 길이: 5\n",
            "------------------------------\n",
            "세 변 3, 4, 5는 직각삼각형 입니다.\n"
          ]
        }
      ],
      "source": [
        "# 1. 세 변의 길이 입력 받기\n",
        "a = int(input('변 a의 길이: '))\n",
        "b = int(input('변 b의 길이: '))\n",
        "c = int(input('변 c의 길이: '))  # 빗변이라 가정한다.\n",
        "print('-' * 30)  # 분리 선\n",
        "\n",
        "# 2. 직각삼각형 판별하기\n",
        "if (a**2 + b**2) == c**2:\n",
        "    print(f'세 변 {a}, {b}, {c}는 직각삼각형 입니다.')\n",
        "else:\n",
        "    print(f'세 변 {a}, {b}, {c}는 직각삼각형이 아닙니다.')"
      ]
    },
    {
      "cell_type": "code",
      "source": [
        "a = [1,2,3,4,5]\n",
        "print(f'{a}의 개수(길이): {len(a)}' )\n",
        "print(f'{a}의 합계  : {sum(a)}' )\n",
        "print(f'{a}의 최소값: {min(a)}' )\n",
        "print(f'{a}의 최대값: {max(a)}' )\n",
        "print(f'{a}의 평균  : {sum(a)/len(a)}' )\n"
      ],
      "metadata": {
        "colab": {
          "base_uri": "https://localhost:8080/"
        },
        "id": "8mYzUupUrJYH",
        "outputId": "391c0fa5-c42d-4e92-b860-c7ee1e04be64"
      },
      "id": "8mYzUupUrJYH",
      "execution_count": null,
      "outputs": [
        {
          "output_type": "stream",
          "name": "stdout",
          "text": [
            "[1, 2, 3, 4, 5]의 개수(길이): 5\n",
            "[1, 2, 3, 4, 5]의 합계  : 15\n",
            "[1, 2, 3, 4, 5]의 최소값: 1\n",
            "[1, 2, 3, 4, 5]의 최대값: 5\n",
            "[1, 2, 3, 4, 5]의 평균  : 3.0\n"
          ]
        }
      ]
    },
    {
      "cell_type": "code",
      "source": [
        "#성적 등급 판별하는 조건문\n",
        "score = int(input('성적을 입력해 주세요 : '))\n",
        "print('-'*30)\n",
        "if score >= 90 :\n",
        "  print('성적은 A 입니다.')\n",
        "elif (score >= 80) :\n",
        "  print('성적은 B 입니다.')\n",
        "elif (score >=70) :\n",
        "  print('성적은 C 입니다.')\n",
        "else :\n",
        "  print('성적은 D 입니다.')\n",
        "\n"
      ],
      "metadata": {
        "colab": {
          "base_uri": "https://localhost:8080/"
        },
        "id": "ACtSk_HPtzSc",
        "outputId": "3a97df90-a901-4035-8cf0-e357520cec1a"
      },
      "id": "ACtSk_HPtzSc",
      "execution_count": null,
      "outputs": [
        {
          "output_type": "stream",
          "name": "stdout",
          "text": [
            "성적을 입력해 주세요 : 60\n",
            "성적은 D 입니다.\n"
          ]
        }
      ]
    },
    {
      "cell_type": "code",
      "source": [
        "score = int(input('성적을 입력해 주세요: '))\n",
        "print('-' * 30)\n",
        "grade = 'D'\n",
        "\n",
        "if score >= 90:\n",
        "    grade = 'A'\n",
        "elif score >= 80:\n",
        "    grade = 'B'\n",
        "elif score >= 70:\n",
        "    grade = 'C'\n",
        "\n",
        "print(f'성적: {score}점은 {grade}등급 입니다.')"
      ],
      "metadata": {
        "colab": {
          "base_uri": "https://localhost:8080/"
        },
        "id": "tfleNpC4w1xd",
        "outputId": "ad3a8ef1-fab3-4514-82b8-5de8b1e58c78"
      },
      "id": "tfleNpC4w1xd",
      "execution_count": null,
      "outputs": [
        {
          "output_type": "stream",
          "name": "stdout",
          "text": [
            "성적을 입력해 주세요: 85\n",
            "------------------------------\n",
            "성적: 85점은 B등급 입니다.\n"
          ]
        }
      ]
    },
    {
      "cell_type": "code",
      "source": [
        "#온도에따른 행동하기 조건문 (temp)\n",
        "t = int(input('온도를 입력해주세요: '))\n",
        "if t >=30:\n",
        "  print(f'{t}도입니다. 에어컨을 켜주세요!')\n",
        "elif t <15:\n",
        "  print(f'{t}도입니다. 내복을 입으세요!')\n",
        "  if t <=10:\n",
        "   print(f'{t}도입니다. 난방기를 켜주세요!')\n",
        "else:\n",
        "  print(f'쾌적한 온도~')\n"
      ],
      "metadata": {
        "colab": {
          "base_uri": "https://localhost:8080/"
        },
        "id": "__cc7gwMxfvO",
        "outputId": "0eddaeda-aa33-48bb-f7c8-459967a8feb9"
      },
      "id": "__cc7gwMxfvO",
      "execution_count": null,
      "outputs": [
        {
          "output_type": "stream",
          "name": "stdout",
          "text": [
            "온도를 입력해주세요: 5\n",
            "5도입니다. 내복을 입으세요!\n",
            "5도입니다. 난방기를 켜주세요!\n"
          ]
        }
      ]
    },
    {
      "cell_type": "markdown",
      "source": [
        "###코랩에서 gTTS 기능 사용하기"
      ],
      "metadata": {
        "id": "yLzHBR7Q9-Jp"
      },
      "id": "yLzHBR7Q9-Jp"
    },
    {
      "cell_type": "code",
      "source": [
        "!pip install gtts"
      ],
      "metadata": {
        "colab": {
          "base_uri": "https://localhost:8080/"
        },
        "id": "rW3_nEnd99RD",
        "outputId": "20443d81-2882-4b6c-e4e8-36a4202ba485"
      },
      "id": "rW3_nEnd99RD",
      "execution_count": null,
      "outputs": [
        {
          "output_type": "stream",
          "name": "stdout",
          "text": [
            "Collecting gtts\n",
            "  Downloading gTTS-2.3.2-py3-none-any.whl (28 kB)\n",
            "Requirement already satisfied: requests<3,>=2.27 in /usr/local/lib/python3.10/dist-packages (from gtts) (2.31.0)\n",
            "Requirement already satisfied: click<8.2,>=7.1 in /usr/local/lib/python3.10/dist-packages (from gtts) (8.1.6)\n",
            "Requirement already satisfied: charset-normalizer<4,>=2 in /usr/local/lib/python3.10/dist-packages (from requests<3,>=2.27->gtts) (3.2.0)\n",
            "Requirement already satisfied: idna<4,>=2.5 in /usr/local/lib/python3.10/dist-packages (from requests<3,>=2.27->gtts) (3.4)\n",
            "Requirement already satisfied: urllib3<3,>=1.21.1 in /usr/local/lib/python3.10/dist-packages (from requests<3,>=2.27->gtts) (2.0.4)\n",
            "Requirement already satisfied: certifi>=2017.4.17 in /usr/local/lib/python3.10/dist-packages (from requests<3,>=2.27->gtts) (2023.7.22)\n",
            "Installing collected packages: gtts\n",
            "Successfully installed gtts-2.3.2\n"
          ]
        }
      ]
    },
    {
      "cell_type": "code",
      "source": [
        "from gtts import gTTS\n",
        "from IPython.display import Audio\n",
        "\n",
        "kor_wav = gTTS('안녕 여러분!', lang = 'ko')\n",
        "kor_wav.save('kor.wav')\n",
        "\n",
        "display(Audio('kor.wav', autoplay=True))"
      ],
      "metadata": {
        "colab": {
          "base_uri": "https://localhost:8080/",
          "height": 76
        },
        "id": "6dON6Yq9-JdV",
        "outputId": "79f378aa-b45d-42c4-f1f2-7a97b5b13404"
      },
      "id": "6dON6Yq9-JdV",
      "execution_count": null,
      "outputs": [
        {
          "output_type": "display_data",
          "data": {
            "text/plain": [
              "<IPython.lib.display.Audio object>"
            ],
            "text/html": [
              "\n",
              "                <audio  controls=\"controls\" autoplay=\"autoplay\">\n",
              "                    <source src=\"data:audio/x-wav;base64,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\" type=\"audio/x-wav\" />\n",
              "                    Your browser does not support the audio element.\n",
              "                </audio>\n",
              "              "
            ]
          },
          "metadata": {}
        }
      ]
    },
    {
      "cell_type": "code",
      "source": [
        "from gtts import gTTS\n",
        "from IPython.display import Audio\n",
        "\n",
        "kor_wav = gTTS('Hello everyone!', lang = 'en')\n",
        "kor_wav.save('eng.wav')\n",
        "\n",
        "display(Audio('eng.wav', autoplay=True))"
      ],
      "metadata": {
        "colab": {
          "base_uri": "https://localhost:8080/",
          "height": 76
        },
        "id": "U0jY83Pt-RNv",
        "outputId": "f0f9b28a-a762-4f4d-a363-7f5c2196841f"
      },
      "id": "U0jY83Pt-RNv",
      "execution_count": null,
      "outputs": [
        {
          "output_type": "display_data",
          "data": {
            "text/plain": [
              "<IPython.lib.display.Audio object>"
            ],
            "text/html": [
              "\n",
              "                <audio  controls=\"controls\" autoplay=\"autoplay\">\n",
              "                    <source src=\"data:audio/x-wav;base64,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\" type=\"audio/x-wav\" />\n",
              "                    Your browser does not support the audio element.\n",
              "                </audio>\n",
              "              "
            ]
          },
          "metadata": {}
        }
      ]
    },
    {
      "cell_type": "markdown",
      "id": "862598a5",
      "metadata": {
        "id": "862598a5"
      },
      "source": [
        "### [실습문제]\n",
        "아래 조건을 만족하는 커피 자동주문 머신을 만들어보세요.<br><br>\n",
        "[커피 자동주문 머신]<br>\n",
        "친구들과 현금 커피 자동주문 머신 앞에서\n",
        " - 아메리카노 2잔과 카페라테 2잔 카푸치노 1잔을 주문하였다.\n",
        " - 아메리카노 한잔에 2500원이고\n",
        " - 카페라테는 한잔에 3000원\n",
        " - 카푸치노는 한잔에 3000원이다.\n",
        "커피 종류와 잔 수를 결정한 후 현금 15000원을 투입하고 잔돈을 1000원 받았다."
      ]
    },
    {
      "cell_type": "code",
      "execution_count": null,
      "id": "0d6035c2",
      "metadata": {
        "colab": {
          "base_uri": "https://localhost:8080/"
        },
        "id": "0d6035c2",
        "outputId": "3347003f-c1ba-4d01-ce9c-30b9993be5d0"
      },
      "outputs": [
        {
          "output_type": "stream",
          "name": "stdout",
          "text": [
            "[커피 자동주문 머신 메뉴]\n",
            "------------------------------\n",
            "-아메리카노는 2500원\n",
            "-카레라떼는 3000원\n",
            "-카푸치노는 3000원\n",
            "입니다. 원하시는 커피종류와 잔수를 입력하세요.\n",
            "------------------------------\n",
            "아메리카노 몇잔?1\n",
            "카페라떼 몇잔?1\n",
            "카푸치노 몇잔?1\n",
            "지불할 총 금액은: 8500원입니다.\n",
            "돈을 넣어주세요~10000\n",
            "거스름돈은 1500원입니다.\n"
          ]
        }
      ],
      "source": [
        "menu = '''[커피 자동주문 머신 메뉴]\n",
        "------------------------------\n",
        "-아메리카노는 2500원\n",
        "-카레라떼는 3000원\n",
        "-카푸치노는 3000원\n",
        "입니다. 원하시는 커피종류와 잔수를 입력하세요.\n",
        "------------------------------'''\n",
        "print(menu)\n",
        "coffee1 = int(input(\"아메리카노 몇잔?\"))\n",
        "coffee2 = int(input(\"카페라떼 몇잔?\"))\n",
        "coffee3 = int(input(\"카푸치노 몇잔?\"))\n",
        "total = coffee1*2500+coffee2*3000+coffee3*3000\n",
        "print(f'지불할 총 금액은: {total}원입니다.')\n",
        "money = int(input('돈을 넣어주세요~'))\n",
        "if money < total:\n",
        "  print(f'입력한 금액이 부족합니다. {total-money}을 더 넣어주세요.')\n",
        "else:\n",
        "  print(f'거스름돈은 {money-total}원입니다.') #print(f'거스름돈은 abs{total-money}원입니다.') =-음수의 결과값이 나오지 않게 abs\n"
      ]
    },
    {
      "cell_type": "markdown",
      "source": [
        "###간소화된 조건문 표현식"
      ],
      "metadata": {
        "id": "NWcOU3NkGVO3"
      },
      "id": "NWcOU3NkGVO3"
    },
    {
      "cell_type": "code",
      "source": [
        "score = int(input('점수를 입력하세요: '))\n",
        "if score >=80:\n",
        "    message = '성공'\n",
        "else:\n",
        "    message = '실패'\n",
        "print(f'{score}점일 때 {message}')"
      ],
      "metadata": {
        "colab": {
          "base_uri": "https://localhost:8080/"
        },
        "id": "lGwg_wiqGUlY",
        "outputId": "512c67e9-f32a-4b10-924f-e177bd6e36f9"
      },
      "id": "lGwg_wiqGUlY",
      "execution_count": null,
      "outputs": [
        {
          "output_type": "stream",
          "name": "stdout",
          "text": [
            "점수를 입력하세요: 70\n",
            "70점일 때 실패\n"
          ]
        }
      ]
    },
    {
      "cell_type": "code",
      "source": [
        "score = int(input('점수를 입력하세요: '))\n",
        "#mesaage = '성공' if score >=80 else '실패'\n",
        "print(f\"{score}점일 때 {'성공' if score >=80 else '실패'}!\")"
      ],
      "metadata": {
        "colab": {
          "base_uri": "https://localhost:8080/"
        },
        "id": "wWZ9frGXG807",
        "outputId": "c5005f65-1bad-46b8-83fa-c77745af2d8d"
      },
      "id": "wWZ9frGXG807",
      "execution_count": null,
      "outputs": [
        {
          "output_type": "stream",
          "name": "stdout",
          "text": [
            "점수를 입력하세요: 90\n",
            "90점일 때 성공!\n"
          ]
        }
      ]
    },
    {
      "cell_type": "markdown",
      "id": "67412428",
      "metadata": {
        "id": "67412428"
      },
      "source": [
        "## 3-2.반복문"
      ]
    },
    {
      "cell_type": "markdown",
      "id": "44197774",
      "metadata": {
        "id": "44197774"
      },
      "source": [
        "### 반복문: for 반복문"
      ]
    },
    {
      "cell_type": "code",
      "execution_count": null,
      "id": "9f69ecc4",
      "metadata": {
        "scrolled": true,
        "colab": {
          "base_uri": "https://localhost:8080/"
        },
        "id": "9f69ecc4",
        "outputId": "b0e85814-7d94-4f39-da6f-563514b72b74"
      },
      "outputs": [
        {
          "output_type": "stream",
          "name": "stdout",
          "text": [
            "0\n",
            "1\n",
            "2\n"
          ]
        }
      ],
      "source": [
        "# for i in range(0,3):\n",
        "# for i in range(3):\n",
        "for i in range(0,3,1):\n",
        "  print (i)"
      ]
    },
    {
      "cell_type": "markdown",
      "source": [
        "### 문자열 길이를 이용하여 반복하기"
      ],
      "metadata": {
        "id": "M01TdYGAJ_Z_"
      },
      "id": "M01TdYGAJ_Z_"
    },
    {
      "cell_type": "code",
      "source": [
        "사과 = 'apple'\n",
        "for i in 사과:\n",
        "  print(i)\n",
        "\n",
        "사과 = 'apple' #글자 개수만큼 반복 apple은 다섯글자\n",
        "for i in 사과:\n",
        "  print('사과지롱')"
      ],
      "metadata": {
        "colab": {
          "base_uri": "https://localhost:8080/"
        },
        "id": "8L73rlVNKCp-",
        "outputId": "56168911-1513-4d45-cd06-02117e2cb765"
      },
      "id": "8L73rlVNKCp-",
      "execution_count": null,
      "outputs": [
        {
          "output_type": "stream",
          "name": "stdout",
          "text": [
            "a\n",
            "p\n",
            "p\n",
            "l\n",
            "e\n",
            "사과지롱\n",
            "사과지롱\n",
            "사과지롱\n",
            "사과지롱\n",
            "사과지롱\n"
          ]
        }
      ]
    },
    {
      "cell_type": "markdown",
      "source": [
        "### 리스트를 이용하여 반복하기"
      ],
      "metadata": {
        "id": "8AeNJcpDLSYF"
      },
      "id": "8AeNJcpDLSYF"
    },
    {
      "cell_type": "code",
      "source": [
        "fruits = ['포도', '사과', '오렌지', '바나나', '체리']\n",
        "for fruit in fruits:\n",
        "  print(f'내가 좋아하는 과일 {fruit}!')"
      ],
      "metadata": {
        "colab": {
          "base_uri": "https://localhost:8080/"
        },
        "id": "fbM8qGykLRUa",
        "outputId": "340d831b-300f-4cd1-e85f-46facf385d51"
      },
      "id": "fbM8qGykLRUa",
      "execution_count": null,
      "outputs": [
        {
          "output_type": "stream",
          "name": "stdout",
          "text": [
            "내가 좋아하는 과일 포도!\n",
            "내가 좋아하는 과일 사과!\n",
            "내가 좋아하는 과일 오렌지!\n",
            "내가 좋아하는 과일 바나나!\n",
            "내가 좋아하는 과일 체리!\n"
          ]
        }
      ]
    },
    {
      "cell_type": "code",
      "source": [
        "fruits = ['포도', '사과', '오렌지', '바나나', '체리']\n",
        "print('내가 좋아하는 과일은')\n",
        "for fruit in fruits:\n",
        "  print(fruit, end=' ')"
      ],
      "metadata": {
        "colab": {
          "base_uri": "https://localhost:8080/"
        },
        "id": "692cfqvQL52W",
        "outputId": "4be8f474-adc0-4551-d6f7-70067896f24c"
      },
      "id": "692cfqvQL52W",
      "execution_count": null,
      "outputs": [
        {
          "output_type": "stream",
          "name": "stdout",
          "text": [
            "내가 좋아하는 과일은\n",
            "포도 사과 오렌지 바나나 체리 "
          ]
        }
      ]
    },
    {
      "cell_type": "markdown",
      "id": "8288e636",
      "metadata": {
        "id": "8288e636"
      },
      "source": [
        "### [실습문제]\n",
        "키보드로 양의 정수(n)을 입력 받아 1~n까지의 합을 구하는 프로그램을 만들어 보세요."
      ]
    },
    {
      "cell_type": "code",
      "execution_count": null,
      "id": "d6774150",
      "metadata": {
        "colab": {
          "base_uri": "https://localhost:8080/"
        },
        "id": "d6774150",
        "outputId": "c7f6beea-1019-40c3-fdf8-cc8ed62b8ce3"
      },
      "outputs": [
        {
          "output_type": "stream",
          "name": "stdout",
          "text": [
            "합계를 구할 숫자 입력: 100\n",
            "1~100까지 합은: 5050\n"
          ]
        }
      ],
      "source": [
        "# 1. 숫자 N을 입력하세요.\n",
        "n = int(input('합계를 구할 숫자 입력: '))\n",
        "hap = 0\n",
        "\n",
        "# 2. 1~N까지 합계를 구하세요.\n",
        "for i in range(1,n+1,1):\n",
        "  hap += i  #hap= hap+i\n",
        "\n",
        "print(f'1~{n}까지 합은: {hap}')\n",
        "\n"
      ]
    },
    {
      "cell_type": "markdown",
      "id": "aae06acb",
      "metadata": {
        "id": "aae06acb"
      },
      "source": [
        "### [실습문제]\n",
        "키보드로 양의 정수(n)을 입력 받아 1~n까지의 합을 구할 때 짝수를 제외하고 합을 구하는 프로그램을 만들어 보세요."
      ]
    },
    {
      "cell_type": "code",
      "execution_count": null,
      "id": "c87285cf",
      "metadata": {
        "colab": {
          "base_uri": "https://localhost:8080/"
        },
        "id": "c87285cf",
        "outputId": "b8dd47ed-eb38-4a19-bffb-0052ef8b10a9"
      },
      "outputs": [
        {
          "output_type": "stream",
          "name": "stdout",
          "text": [
            "합계를 구할 숫자 입력: 100\n",
            "1~100까지 짝수를 제외한 합은: 2500\n"
          ]
        }
      ],
      "source": [
        "n = int(input('합계를 구할 숫자 입력: '))\n",
        "hap = 0\n",
        "for i in range(1,n+1,1):\n",
        "  if i %2==0:  #짝수\n",
        "      continue  #skip=pass 의미\n",
        "  else:\n",
        "    hap = hap + i\n",
        "\n",
        "print(f'1~{n}까지 짝수를 제외한 합은: {hap}')\n"
      ]
    },
    {
      "cell_type": "code",
      "source": [
        "n = int(input('합계를 구할 숫자 입력: '))\n",
        "hap = 0\n",
        "for i in range(1,n+1,2):  #짝수를 제외하라고 했기때문에 2로 해도 가능\n",
        "    hap = hap + i\n",
        "\n",
        "print(f'1~{n}까지 짝수를 제외한 합은: {hap}')\n"
      ],
      "metadata": {
        "colab": {
          "base_uri": "https://localhost:8080/"
        },
        "id": "FgARmgdOQt9x",
        "outputId": "71d16ddb-0de0-4d1c-d8ec-9c0e42e62175"
      },
      "id": "FgARmgdOQt9x",
      "execution_count": null,
      "outputs": [
        {
          "output_type": "stream",
          "name": "stdout",
          "text": [
            "합계를 구할 숫자 입력: 100\n",
            "1~100까지 짝수를 제외한 합은: 2500\n"
          ]
        }
      ]
    },
    {
      "cell_type": "markdown",
      "id": "ac62e6f7",
      "metadata": {
        "id": "ac62e6f7"
      },
      "source": [
        "### 반복문: while 반복문"
      ]
    },
    {
      "cell_type": "code",
      "source": [
        "num1, num2 = 1, 1\n",
        "\n",
        "while num1 !=0:\n",
        "    num1 = int(input(\"더할 첫 번째 숫자: \"))\n",
        "    num2 = int(input(\"더할 두 번째 숫자: \"))\n",
        "\n",
        "    print(f'{num1} + {num2} = {num1 + num2}')\n",
        "\n",
        "print(\"0을 입력해서 반복문을 탈출했습니다.\")"
      ],
      "metadata": {
        "colab": {
          "base_uri": "https://localhost:8080/"
        },
        "id": "8Lv8DZTaW_gO",
        "outputId": "5bc2cad6-e542-48bd-eb04-a603b29321a8"
      },
      "id": "8Lv8DZTaW_gO",
      "execution_count": null,
      "outputs": [
        {
          "output_type": "stream",
          "name": "stdout",
          "text": [
            "더할 첫 번째 숫자: 50\n",
            "더할 두 번째 숫자: 100\n",
            "50 + 100 = 150\n",
            "더할 첫 번째 숫자: 30\n",
            "더할 두 번째 숫자: 60\n",
            "30 + 60 = 90\n",
            "더할 첫 번째 숫자: 0\n",
            "더할 두 번째 숫자: 10\n",
            "0 + 10 = 10\n",
            "0을 입력해서 반복문을 탈출했습니다.\n"
          ]
        }
      ]
    },
    {
      "cell_type": "code",
      "execution_count": null,
      "id": "f2fb3ce9",
      "metadata": {
        "colab": {
          "base_uri": "https://localhost:8080/"
        },
        "id": "f2fb3ce9",
        "outputId": "3ff9c520-3472-42cf-a7a5-2644ade9d80a"
      },
      "outputs": [
        {
          "output_type": "stream",
          "name": "stdout",
          "text": [
            "더할 첫 번째 숫자: 10\n",
            "더할 두 번째 숫자: 20\n",
            "10 + 20 = 30\n",
            "더할 첫 번째 숫자: 0\n",
            "0을 입력해서 반복문을 탈출했습니다.\n"
          ]
        }
      ],
      "source": [
        "num1, num2 = 0, 0\n",
        "\n",
        "while True:\n",
        "    num1 = int(input(\"더할 첫 번째 숫자: \"))\n",
        "    if num1 == 0:\n",
        "        break\n",
        "\n",
        "    num2 = int(input(\"더할 두 번째 숫자: \"))\n",
        "\n",
        "    print(f'{num1} + {num2} = {num1 + num2}')\n",
        "\n",
        "print(\"0을 입력해서 반복문을 탈출했습니다.\")"
      ]
    },
    {
      "cell_type": "markdown",
      "id": "02a797a4",
      "metadata": {
        "id": "02a797a4"
      },
      "source": [
        "### [실습문제] 도둑잡기 게임 만들기\n",
        "경찰에 쫓기던 범인이 3개의 방 중에 한 곳에 숨어버렸습니다. 범인은 방문을 열 때마다 무작위로 3개의 방 중 하나의 방으로 이동합니다. 3개의 방 중 하나의 방을 선택했을 때 범인이 있다면 100점, 없을 때 -10점을 부여하고 범인을 잡으면 게임을 종료하는 프로그램을 만들어 보세요."
      ]
    },
    {
      "cell_type": "code",
      "execution_count": null,
      "id": "e08b9dc4",
      "metadata": {
        "colab": {
          "base_uri": "https://localhost:8080/"
        },
        "id": "e08b9dc4",
        "outputId": "3f0a7176-45a1-402d-c687-c6507d87b737"
      },
      "outputs": [
        {
          "output_type": "stream",
          "name": "stdout",
          "text": [
            "도둑이 숨은 방 번호는?(1,2,3): 1\n",
            "찾았다! 도둑이 있는 방입니다.\n",
            "게임이 종료됩니다.\n",
            "도둑이 있는 방은 1번 방입니다. 점수는 100점!\n"
          ]
        }
      ],
      "source": [
        "import random\n",
        "score = 0\n",
        "while True:\n",
        "    room = random.randint(1, 3) # 1~3정수 중 임의의 수 선택\n",
        "    n = int(input('도둑이 숨은 방 번호는?(1,2,3): '))\n",
        "    # 비교\n",
        "    if n == room :\n",
        "        print('찾았다! 도둑이 있는 방입니다.')\n",
        "        score = score + 100 # socre += 100\n",
        "        break\n",
        "    else:\n",
        "        print('이 방에는 도둑이 없습니다.')\n",
        "        score -= 10\n",
        "print('게임이 종료됩니다.')\n",
        "print(f'도둑이 있는 방은 {room}번 방입니다. 점수는 {score}점!')\n"
      ]
    },
    {
      "cell_type": "markdown",
      "id": "0d03701c",
      "metadata": {
        "id": "0d03701c"
      },
      "source": [
        "### [실습문제] 공이 튕긴 횟수 구하기\n",
        "공을 일정 높이에서 떨어뜨리면, 원래 높이의 1/2만큼 튀어 오릅니다. 이를 반복하다가 높이가 0.00001m보다 낮으면 튀어 오르지 않습니다. while문을 이용하여 공이 튀어 오르는 총 횟수를 구하는 프로그램을 만들어 보세요."
      ]
    },
    {
      "cell_type": "code",
      "execution_count": 13,
      "id": "1ac5675e",
      "metadata": {
        "scrolled": true,
        "id": "1ac5675e",
        "colab": {
          "base_uri": "https://localhost:8080/"
        },
        "outputId": "efcc6084-3b55-419b-ff65-cea309c438d8"
      },
      "outputs": [
        {
          "output_type": "stream",
          "name": "stdout",
          "text": [
            "공의 높이를 입력하세요(m): 30\n",
            "--------------------------------------------------\n",
            "30 위치에서 공이 튕긴 횟수는 총 22번 입니다.\n"
          ]
        }
      ],
      "source": [
        "#방법1\n",
        "\n",
        "length = int(input('공의 높이를 입력하세요(m): '))\n",
        "meter, cnt = length, 0\n",
        "while True:\n",
        "    cnt = cnt + 1     # count += 1\n",
        "    meter = meter / 2\n",
        "    if meter < 0.00001:\n",
        "        break\n",
        "print('-'*50)\n",
        "print(f'{length} 위치에서 공이 튕긴 횟수는 총 {cnt}번 입니다.')"
      ]
    },
    {
      "cell_type": "code",
      "source": [
        "#방법2\n",
        "\n",
        "length = int(input('공의 높이를 입력하세요(meter): '))\n",
        "cnt = 0\n",
        "meter = length\n",
        "while length >=0.00001:\n",
        "  cnt = cnt+1  #cnt+=1\n",
        "  meter = meter /2\n",
        "print(f'{length}m 위치에서 공을 튕긴 횟수는 총 {cnt}번 입니다.')"
      ],
      "metadata": {
        "id": "r7nuFF0Xy5Gj"
      },
      "id": "r7nuFF0Xy5Gj",
      "execution_count": null,
      "outputs": []
    },
    {
      "cell_type": "markdown",
      "id": "ecdb476f",
      "metadata": {
        "id": "ecdb476f"
      },
      "source": [
        "### [실습문제] 커피 자동주문 프로그램 업그레이드\n",
        "앞에서 만들어 본 커피 자동주문 머신 프로그램을 while문을 이용하여 돈을 모두 지불할 때까지 돈을 입력 받도록 프로그램 기능 수정하기"
      ]
    },
    {
      "cell_type": "code",
      "execution_count": null,
      "id": "2ce8fbfc",
      "metadata": {
        "scrolled": true,
        "colab": {
          "base_uri": "https://localhost:8080/"
        },
        "id": "2ce8fbfc",
        "outputId": "f5ff58bd-fd00-4ea3-bc17-96bdef2a3469"
      },
      "outputs": [
        {
          "output_type": "stream",
          "name": "stdout",
          "text": [
            "[커피 자동주문 머신 메뉴]\n",
            "------------------------------\n",
            "-아메리카노는 2500원\n",
            "-카레라떼는 3000원\n",
            "-카푸치노는 3000원\n",
            "입니다. 원하시는 커피종류와 잔수를 입력하세요.\n",
            "------------------------------\n",
            "아메리카노 몇잔?1\n",
            "카페라떼 몇잔?1\n",
            "카푸치노 몇잔?1\n",
            "지불할 총 금액은  8500 원 입니다\n",
            "--------------------------------------------------\n",
            "[지불할 금액:8500] : 돈을 넣어주세요: 5000\n",
            "입력한 금액이 부족합니다. 3500 원을 더 넣어주세요.\n",
            "--------------------------------------------------\n",
            "[지불할 금액:3500] : 돈을 넣어주세요: 4000\n",
            "거스름돈은 500원 입니다.\n",
            "--------------------------------------------------\n",
            " 커피 맛있게 드세요.\n"
          ]
        }
      ],
      "source": [
        "menu = '''[커피 자동주문 머신 메뉴]\n",
        "------------------------------\n",
        "-아메리카노는 2500원\n",
        "-카레라떼는 3000원\n",
        "-카푸치노는 3000원\n",
        "입니다. 원하시는 커피종류와 잔수를 입력하세요.\n",
        "------------------------------'''\n",
        "print(menu)\n",
        "coffee1 = int(input(\"아메리카노 몇잔?\"))\n",
        "coffee2 = int(input(\"카페라떼 몇잔?\"))\n",
        "coffee3 = int(input(\"카푸치노 몇잔?\"))\n",
        "\n",
        "total = coffee1*2500 + coffee2*3000 + coffee3*3000\n",
        "print(\"지불할 총 금액은 \", total, \"원 입니다\")\n",
        "\n",
        "while True:\n",
        "    print('-'*50)\n",
        "    money = int(input(f'[지불할 금액:{total}] : 돈을 넣어주세요: '))\n",
        "    if total > money  :\n",
        "        print(f'입력한 금액이 부족합니다. {total - money} 원을 더 넣어주세요.')\n",
        "        total = total - money\n",
        "    else:\n",
        "        print(f'거스름돈은 {money - total}원 입니다.')\n",
        "        break\n",
        "\n",
        "print('-'*50)\n",
        "print(' 커피 맛있게 드세요.')"
      ]
    },
    {
      "cell_type": "markdown",
      "id": "af0e48ab",
      "metadata": {
        "id": "af0e48ab"
      },
      "source": [
        "## 3-3.난수(Random Variable)"
      ]
    },
    {
      "cell_type": "code",
      "execution_count": null,
      "id": "3c007936",
      "metadata": {
        "id": "3c007936"
      },
      "outputs": [],
      "source": [
        "import numpy\n",
        "numpy.random.randint(10,20, size=10) #10에서 20까지 정수 10개 추출하기"
      ]
    },
    {
      "cell_type": "markdown",
      "id": "e34c55ca",
      "metadata": {
        "id": "e34c55ca"
      },
      "source": [
        "### [실습문제] 임의의 두 수 합 구하기\n",
        "1부터 10까지의 범위를 갖는 임의의 두 정수 a, b를 더하여 결과 출력하기"
      ]
    },
    {
      "cell_type": "code",
      "source": [
        "import random\n",
        "a = random.randint(1,10)\n",
        "b = random.randint(1,10)\n",
        "print(f'{a}+{b}={a+b}')"
      ],
      "metadata": {
        "colab": {
          "base_uri": "https://localhost:8080/"
        },
        "id": "smrQM_zB3Guh",
        "outputId": "7f1fa331-99d4-43de-c02a-683c818a55d1"
      },
      "id": "smrQM_zB3Guh",
      "execution_count": 17,
      "outputs": [
        {
          "output_type": "stream",
          "name": "stdout",
          "text": [
            "7+8=15\n"
          ]
        }
      ]
    },
    {
      "cell_type": "markdown",
      "id": "357e1bdd",
      "metadata": {
        "id": "357e1bdd"
      },
      "source": [
        "### [실습문제]\n",
        "주사위를 100번 던져서 나오는 숫자를 각 숫자별로 카운트하고 가장 많이 나온 숫자와 그 숫자의 횟수를 출력하시오."
      ]
    },
    {
      "cell_type": "code",
      "execution_count": 19,
      "id": "782da2b4",
      "metadata": {
        "id": "782da2b4",
        "colab": {
          "base_uri": "https://localhost:8080/"
        },
        "outputId": "58d3aced-634c-467e-fbaa-49aa90555935"
      },
      "outputs": [
        {
          "output_type": "stream",
          "name": "stdout",
          "text": [
            "숫자별 개수:[a,b,c,d,e,f]\n",
            "'가장 많이 나온 주사위 숫자: ', 횟수: \n"
          ]
        }
      ],
      "source": [
        "import random\n",
        "\n",
        "a = random.randint(1,6)\n",
        "cnt = a+1\n",
        "\n",
        "print(f'숫자별 개수:[]')\n",
        "print(f\"'가장 많이 나온 주사위 숫자: ', 횟수: \")"
      ]
    },
    {
      "cell_type": "code",
      "source": [
        "#선생님이 한 것\n",
        "import random\n",
        "\n",
        "dice = [0,0,0,0,0,0]    #dice는 리스트\n",
        "for i in range(100):\n",
        "  x = random.randint(1,6)\n",
        "  dice[x-1] = dice[x-1]+1\n",
        "\n",
        "print(dice)\n",
        "print(f'가장 많이 나온 주사위 숫자:{dice.index(max(dice))} , 횟수:{max(dice)}')"
      ],
      "metadata": {
        "colab": {
          "base_uri": "https://localhost:8080/"
        },
        "id": "IGNcaKW47hBB",
        "outputId": "22c693ce-f062-44d1-a1a8-f92f72fc95c2"
      },
      "id": "IGNcaKW47hBB",
      "execution_count": 25,
      "outputs": [
        {
          "output_type": "stream",
          "name": "stdout",
          "text": [
            "[13, 16, 19, 24, 14, 14]\n",
            "가장 많이 나온 주사위 숫자:3 , 횟수:24\n"
          ]
        }
      ]
    },
    {
      "cell_type": "markdown",
      "source": [
        "###리스트 컴프리헨션"
      ],
      "metadata": {
        "id": "cU7vOZE7C16n"
      },
      "id": "cU7vOZE7C16n"
    },
    {
      "cell_type": "code",
      "source": [
        "#리스트에 데이터 넣어 출력하기\n",
        "a = [] #a = list()\n",
        "for i in range(1,6):\n",
        "  a.append(i)\n",
        "print(a)"
      ],
      "metadata": {
        "colab": {
          "base_uri": "https://localhost:8080/"
        },
        "id": "6sWsXUeWC09d",
        "outputId": "51d5a188-a8ee-465f-bc33-7ee65d0174f2"
      },
      "id": "6sWsXUeWC09d",
      "execution_count": 26,
      "outputs": [
        {
          "output_type": "stream",
          "name": "stdout",
          "text": [
            "[1, 2, 3, 4, 5]\n"
          ]
        }
      ]
    },
    {
      "cell_type": "code",
      "source": [
        "#컴프리헨션으로 작성\n",
        "a = [i for i in range(1,6)]   #리스트 구조를 만들고 반복해서 만들때 사용\n",
        "print(a)"
      ],
      "metadata": {
        "colab": {
          "base_uri": "https://localhost:8080/"
        },
        "id": "CBXujMX_DObS",
        "outputId": "a670d5ec-af7f-4bc8-cbac-182baa2b30d7"
      },
      "id": "CBXujMX_DObS",
      "execution_count": 27,
      "outputs": [
        {
          "output_type": "stream",
          "name": "stdout",
          "text": [
            "[1, 2, 3, 4, 5]\n"
          ]
        }
      ]
    },
    {
      "cell_type": "code",
      "source": [
        "#1~10 중 3의 배수만 리스트로 만들기\n",
        "a=[i for i in range(1,11) if i%3==0]\n",
        "print(a)"
      ],
      "metadata": {
        "colab": {
          "base_uri": "https://localhost:8080/"
        },
        "id": "BavlYwzcDwfM",
        "outputId": "90d8b25c-ee1e-4523-d73d-215c5ca570d4"
      },
      "id": "BavlYwzcDwfM",
      "execution_count": 28,
      "outputs": [
        {
          "output_type": "stream",
          "name": "stdout",
          "text": [
            "[3, 6, 9]\n"
          ]
        }
      ]
    },
    {
      "cell_type": "code",
      "source": [
        "#3번씩 반복\n",
        "colors = ['r','g','b']\n",
        "a = [c*3 for c in colors]\n",
        "print(a)"
      ],
      "metadata": {
        "colab": {
          "base_uri": "https://localhost:8080/"
        },
        "id": "PFL2oQQ2EJbj",
        "outputId": "bbb01c76-68c0-48e7-e350-34a176d260bd"
      },
      "id": "PFL2oQQ2EJbj",
      "execution_count": 31,
      "outputs": [
        {
          "output_type": "stream",
          "name": "stdout",
          "text": [
            "['rrr', 'ggg', 'bbb']\n"
          ]
        }
      ]
    },
    {
      "cell_type": "code",
      "source": [
        "a = [str(i) if i%3==0 else i for i in range(1,11)]    #str = string / i는 변수이름 아무거나 상관없음\n",
        "print(a)"
      ],
      "metadata": {
        "colab": {
          "base_uri": "https://localhost:8080/"
        },
        "id": "rfTN22HkEvpp",
        "outputId": "3e55b598-7cb7-45c8-a6e3-5d0a0de510cc"
      },
      "id": "rfTN22HkEvpp",
      "execution_count": 34,
      "outputs": [
        {
          "output_type": "stream",
          "name": "stdout",
          "text": [
            "[1, 2, '3', 4, 5, '6', 7, 8, '9', 10]\n"
          ]
        }
      ]
    },
    {
      "cell_type": "markdown",
      "source": [
        "### zip( )"
      ],
      "metadata": {
        "id": "MMFF1ny3ICJI"
      },
      "id": "MMFF1ny3ICJI"
    },
    {
      "cell_type": "code",
      "source": [
        "foods = ['떡볶이','짜장면','라면','피자','맥주','삼겹살']\n",
        "sides = ['어묵','단무지','김치','피클','치킨']\n",
        "for food, side in zip(foods,sides):\n",
        "  print(f'{food} --> {side}')\n",
        "\n",
        "dict (zip(foods,sides))"
      ],
      "metadata": {
        "colab": {
          "base_uri": "https://localhost:8080/"
        },
        "id": "NyL9GUmRIAk3",
        "outputId": "6f5ac593-afdb-4341-f75f-e5f782e98a06"
      },
      "id": "NyL9GUmRIAk3",
      "execution_count": 38,
      "outputs": [
        {
          "output_type": "stream",
          "name": "stdout",
          "text": [
            "떡볶이 --> 어묵\n",
            "짜장면 --> 단무지\n",
            "라면 --> 김치\n",
            "피자 --> 피클\n",
            "맥주 --> 치킨\n"
          ]
        },
        {
          "output_type": "execute_result",
          "data": {
            "text/plain": [
              "{'떡볶이': '어묵', '짜장면': '단무지', '라면': '김치', '피자': '피클', '맥주': '치킨'}"
            ]
          },
          "metadata": {},
          "execution_count": 38
        }
      ]
    },
    {
      "cell_type": "code",
      "source": [
        "love = {'떡볶이': '어묵', '짜장면': '단무지', '라면': '김치', '피자': '피클', '맥주': '치킨'}\n",
        "print(love.keys())\n",
        "print(love.values())\n",
        "print(love.items())"
      ],
      "metadata": {
        "colab": {
          "base_uri": "https://localhost:8080/"
        },
        "id": "h_Lr4qZiI2-n",
        "outputId": "f0237ec1-ee30-434e-fe5c-40062e3f9dcc"
      },
      "id": "h_Lr4qZiI2-n",
      "execution_count": 40,
      "outputs": [
        {
          "output_type": "stream",
          "name": "stdout",
          "text": [
            "dict_keys(['떡볶이', '짜장면', '라면', '피자', '맥주'])\n",
            "dict_values(['어묵', '단무지', '김치', '피클', '치킨'])\n",
            "dict_items([('떡볶이', '어묵'), ('짜장면', '단무지'), ('라면', '김치'), ('피자', '피클'), ('맥주', '치킨')])\n"
          ]
        }
      ]
    },
    {
      "cell_type": "markdown",
      "id": "45e329e4",
      "metadata": {
        "id": "45e329e4"
      },
      "source": [
        "------------------------"
      ]
    },
    {
      "cell_type": "markdown",
      "id": "66025633",
      "metadata": {
        "id": "66025633"
      },
      "source": [
        "끝"
      ]
    }
  ],
  "metadata": {
    "kernelspec": {
      "display_name": "Python 3 (ipykernel)",
      "language": "python",
      "name": "python3"
    },
    "language_info": {
      "codemirror_mode": {
        "name": "ipython",
        "version": 3
      },
      "file_extension": ".py",
      "mimetype": "text/x-python",
      "name": "python",
      "nbconvert_exporter": "python",
      "pygments_lexer": "ipython3",
      "version": "3.10.9"
    },
    "vscode": {
      "interpreter": {
        "hash": "b41e41bff03a930185ac2cbea60ce521f7c8c2f5401ceb5c30214081f77ab4f5"
      }
    },
    "colab": {
      "provenance": [],
      "include_colab_link": true
    }
  },
  "nbformat": 4,
  "nbformat_minor": 5
}