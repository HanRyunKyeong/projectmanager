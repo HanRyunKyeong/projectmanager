{
  "cells": [
    {
      "cell_type": "markdown",
      "metadata": {
        "id": "view-in-github",
        "colab_type": "text"
      },
      "source": [
        "<a href=\"https://colab.research.google.com/github/HanRyunKyeong/projectmanager/blob/main/1_%E1%84%91%E1%85%A1%E1%84%8B%E1%85%B5%E1%84%8A%E1%85%A5%E1%86%AB%E1%84%80%E1%85%B5%E1%84%8E%E1%85%A9_04_%E1%84%92%E1%85%A1%E1%86%B7%E1%84%89%E1%85%AE%E1%84%8B%E1%85%AA%E1%84%86%E1%85%A9%E1%84%83%E1%85%B2%E1%86%AF_%EC%8B%A4%EC%8A%B5.ipynb\" target=\"_parent\"><img src=\"https://colab.research.google.com/assets/colab-badge.svg\" alt=\"Open In Colab\"/></a>"
      ]
    },
    {
      "cell_type": "markdown",
      "id": "25f81d8c",
      "metadata": {
        "id": "25f81d8c"
      },
      "source": [
        "# 파이썬 기초 다지기"
      ]
    },
    {
      "cell_type": "markdown",
      "id": "3f3da3bd",
      "metadata": {
        "id": "3f3da3bd"
      },
      "source": [
        "## 4- 함수와 모듈\n",
        "데이터 추상화하고 구조화하기"
      ]
    },
    {
      "cell_type": "code",
      "execution_count": null,
      "id": "b2055fa4",
      "metadata": {
        "id": "b2055fa4"
      },
      "outputs": [],
      "source": [
        "\n"
      ]
    },
    {
      "cell_type": "markdown",
      "id": "0c52a67e",
      "metadata": {
        "id": "0c52a67e"
      },
      "source": [
        "----------------------------------"
      ]
    },
    {
      "cell_type": "markdown",
      "id": "aee8f2e8",
      "metadata": {
        "id": "aee8f2e8"
      },
      "source": [
        "## 4-1.함수 < 모듈 < 패키기"
      ]
    },
    {
      "cell_type": "markdown",
      "id": "e89f3546",
      "metadata": {
        "id": "e89f3546"
      },
      "source": [
        "### 함수 정의하기"
      ]
    },
    {
      "cell_type": "code",
      "execution_count": null,
      "id": "4f161d86",
      "metadata": {
        "id": "4f161d86"
      },
      "outputs": [],
      "source": [
        "\n"
      ]
    },
    {
      "cell_type": "markdown",
      "id": "cb89ea65",
      "metadata": {
        "id": "cb89ea65"
      },
      "source": [
        "### 함수의 구조\n",
        "매개변수와 리턴값에 따른 함수의 유형 예"
      ]
    },
    {
      "cell_type": "markdown",
      "id": "8acceb64",
      "metadata": {
        "id": "8acceb64"
      },
      "source": [
        "- 매개변수(X), 리턴값(X)"
      ]
    },
    {
      "cell_type": "code",
      "execution_count": null,
      "id": "57a55c92",
      "metadata": {
        "id": "57a55c92"
      },
      "outputs": [],
      "source": [
        "def func():\n",
        "    print('안녕하세요!')\n",
        "\n",
        "print( func() )"
      ]
    },
    {
      "cell_type": "markdown",
      "id": "aba4c5e6",
      "metadata": {
        "id": "aba4c5e6"
      },
      "source": [
        "- 매개변수(X), 리턴값(O)"
      ]
    },
    {
      "cell_type": "code",
      "execution_count": null,
      "id": "aa699b58",
      "metadata": {
        "id": "aa699b58"
      },
      "outputs": [],
      "source": [
        "def func():\n",
        "    print('안녕하세요!')\n",
        "    return '처리완료!'\n",
        "\n",
        "print( func() )"
      ]
    },
    {
      "cell_type": "markdown",
      "id": "21f24a11",
      "metadata": {
        "id": "21f24a11"
      },
      "source": [
        "- 매개변수(O), 리턴값(X)"
      ]
    },
    {
      "cell_type": "code",
      "execution_count": null,
      "id": "f1c1db85",
      "metadata": {
        "id": "f1c1db85"
      },
      "outputs": [],
      "source": [
        "def func(a, b):\n",
        "    print('덧셈: %d + %d = %d' % (a, b, a+b))\n",
        "\n",
        "print( func(5, 7) )"
      ]
    },
    {
      "cell_type": "markdown",
      "id": "c80d6c02",
      "metadata": {
        "id": "c80d6c02"
      },
      "source": [
        "- 매개변수(O), 리턴값(O)"
      ]
    },
    {
      "cell_type": "code",
      "execution_count": null,
      "id": "d6d46e65",
      "metadata": {
        "id": "d6d46e65"
      },
      "outputs": [],
      "source": [
        "def func(a, b):\n",
        "    print('덧셈: %d + %d = %d' % (a, b, a+b))\n",
        "    return a+b\n",
        "\n",
        "print( func(5, 7) )"
      ]
    },
    {
      "cell_type": "markdown",
      "id": "fbe6e1c6",
      "metadata": {
        "id": "fbe6e1c6"
      },
      "source": [
        "### [실습문제] 암스트롱수 구하기\n",
        "다음 조건을 참고하여 암스트롱수를 구하는 함수를 만들어 출력하는 프로그램을 만들어 보세요.\n",
        "- **암스트롱수** : 세 자리의 정수 중에서 각 자리의 수를 세 제곱한 수의 합과 자신이 같은 수"
      ]
    },
    {
      "cell_type": "code",
      "execution_count": 1,
      "id": "3c387d60",
      "metadata": {
        "colab": {
          "base_uri": "https://localhost:8080/"
        },
        "id": "3c387d60",
        "outputId": "f7474f5e-6023-4bc0-df98-d6eb0592584b"
      },
      "outputs": [
        {
          "output_type": "stream",
          "name": "stdout",
          "text": [
            "[153] is armstrong number!\n",
            "[370] is armstrong number!\n",
            "[371] is armstrong number!\n",
            "[407] is armstrong number!\n"
          ]
        }
      ],
      "source": [
        "def is_arm(N):  # 암스트롱 수 찾는 함수\n",
        "    n = str(N)    # 정수를 문자열로 변환\n",
        "    a = int(n[0]) # 100의 자리수\n",
        "    b = int(n[1]) # 10의 자리수\n",
        "    c = int(n[2]) # 1의 자리수\n",
        "    if N == (a**3 + b**3 + c**3):  # 암스트롱수의 조건\n",
        "        return True\n",
        "    else:\n",
        "        return False\n",
        "\n",
        "for i in range(100, 1000):\n",
        "    if is_arm(i):\n",
        "        print(f'[{i}] is armstrong number!')\n"
      ]
    },
    {
      "cell_type": "markdown",
      "id": "a78bd48d",
      "metadata": {
        "id": "a78bd48d"
      },
      "source": [
        "### [실습문제]\n",
        "앞에서 만든 커피 자동주문 머신 프로그램을 함수를 이용하여 만들어 보세요."
      ]
    },
    {
      "cell_type": "code",
      "execution_count": 5,
      "id": "ea29d25d",
      "metadata": {
        "colab": {
          "base_uri": "https://localhost:8080/"
        },
        "id": "ea29d25d",
        "outputId": "f62b6a23-cee9-4c27-e3cb-2c19f27c1358"
      },
      "outputs": [
        {
          "output_type": "stream",
          "name": "stdout",
          "text": [
            "--------------------------------------------------\n",
            " 커피 맛있게 드세요.\n",
            "[커피 자동주문 머신 메뉴]\n",
            "------------------------------\n",
            "-아메리카노는 2500원\n",
            "-카레라떼는 3000원\n",
            "-카푸치노는 3000원\n",
            "입니다. 원하시는 커피종류와 잔수를 입력하세요.\n",
            "------------------------------\n",
            "아메리카노 몇잔?: 1\n",
            "카페라떼 몇잔?: 1\n",
            "카푸치노 몇잔?: 1\n",
            "지불할 총 금액은  8500 원 입니다\n",
            "--------------------------------------------------\n",
            "[지불할 금액:8500] : 돈을 넣어주세요: 9000\n",
            "거스름돈은 500원 입니다.\n",
            "[커피 자동주문 머신 메뉴]\n",
            "------------------------------\n",
            "-아메리카노는 2500원\n",
            "-카레라떼는 3000원\n",
            "-카푸치노는 3000원\n",
            "입니다. 원하시는 커피종류와 잔수를 입력하세요.\n",
            "------------------------------\n",
            "아메리카노 몇잔?: 1\n",
            "카페라떼 몇잔?: 0\n",
            "카푸치노 몇잔?: 0\n",
            "지불할 총 금액은  2500 원 입니다\n",
            "--------------------------------------------------\n",
            "[지불할 금액:2500] : 돈을 넣어주세요: 3000\n",
            "거스름돈은 500원 입니다.\n",
            "--------------------------------------------------\n",
            " 커피 맛있게 드세요.\n"
          ]
        }
      ],
      "source": [
        "def coffeeMachine(coffee1,coffee2,coffee3):\n",
        "  total = coffee1*2500 + coffee2*3000 + coffee3*3000\n",
        "  print(\"지불할 총 금액은 \", total, \"원 입니다\")\n",
        "\n",
        "  while True:\n",
        "    print('-'*50)\n",
        "    money = int(input(f'[지불할 금액:{total}] : 돈을 넣어주세요: '))\n",
        "    if total > money  :\n",
        "        print(f'입력한 금액이 부족합니다. {total - money} 원을 더 넣어주세요.')\n",
        "        total = total - money\n",
        "    else:\n",
        "        print(f'거스름돈은 {money - total}원 입니다.')\n",
        "        break\n",
        "\n",
        "print('-'*50)\n",
        "print(' 커피 맛있게 드세요.')\n",
        "\n",
        "\n",
        "menu = '''[커피 자동주문 머신 메뉴]\n",
        "------------------------------\n",
        "-아메리카노는 2500원\n",
        "-카레라떼는 3000원\n",
        "-카푸치노는 3000원\n",
        "입니다. 원하시는 커피종류와 잔수를 입력하세요.\n",
        "------------------------------'''         #''' 여러줄 한번에 작성할 때\n",
        "print(menu)\n",
        "coffee1 = int(input(\"아메리카노 몇잔?: \"))\n",
        "coffee2 = int(input(\"카페라떼 몇잔?: \"))\n",
        "coffee3 = int(input(\"카푸치노 몇잔?: \"))\n",
        "\n",
        "coffeeMachine(coffee1,coffee2,coffee3)    #함수 호출\n",
        "# 함수 선언\n",
        "def coffeeMachine(coffee1, coffee2, coffee3):\n",
        "    total = coffee1*2500 + coffee2*3000 + coffee3*3000\n",
        "    print(\"지불할 총 금액은 \", total, \"원 입니다\")\n",
        "    while True:\n",
        "        print('-'*50)\n",
        "        money = int(input(f'[지불할 금액:{total}] : 돈을 넣어주세요: '))\n",
        "        if total > money  :\n",
        "            print(f'입력한 금액이 부족합니다. {total - money} 원을 더 넣어주세요.')\n",
        "            total = total - money\n",
        "        else:\n",
        "            print(f'거스름돈은 {money - total}원 입니다.')\n",
        "            break\n",
        "    print('-'*50)\n",
        "    print(' 커피 맛있게 드세요.')\n",
        "\n",
        "\n",
        "menu = '''[커피 자동주문 머신 메뉴]\n",
        "------------------------------\n",
        "-아메리카노는 2500원\n",
        "-카레라떼는 3000원\n",
        "-카푸치노는 3000원\n",
        "입니다. 원하시는 커피종류와 잔수를 입력하세요.\n",
        "------------------------------'''\n",
        "print(menu)\n",
        "coffee1 = int(input(\"아메리카노 몇잔?: \"))\n",
        "coffee2 = int(input(\"카페라떼 몇잔?: \"))\n",
        "coffee3 = int(input(\"카푸치노 몇잔?: \"))\n",
        "\n",
        "# 함수 호출\n",
        "coffeeMachine(coffee1, coffee2, coffee3)\n"
      ]
    },
    {
      "cell_type": "markdown",
      "source": [
        "### enumerate ( ) 함수"
      ],
      "metadata": {
        "id": "k2h_f81RZsks"
      },
      "id": "k2h_f81RZsks"
    },
    {
      "cell_type": "code",
      "source": [
        "mylist = [100,200,300,400,500]\n",
        "def add10(num):\n",
        "  return num+10\n",
        "\n",
        "for i in mylist:\n",
        "  print(i, add10(i))"
      ],
      "metadata": {
        "colab": {
          "base_uri": "https://localhost:8080/"
        },
        "id": "enTm0HedZx1i",
        "outputId": "f4877a0a-187c-4749-a028-39985e697d91"
      },
      "id": "enTm0HedZx1i",
      "execution_count": 5,
      "outputs": [
        {
          "output_type": "stream",
          "name": "stdout",
          "text": [
            "100 110\n",
            "200 210\n",
            "300 310\n",
            "400 410\n",
            "500 510\n"
          ]
        }
      ]
    },
    {
      "cell_type": "code",
      "source": [
        "mylist = [100,200,300,400,500]\n",
        "\n",
        "def add10(num):\n",
        "  return num+10\n",
        "\n",
        "for idx, i in enumerate(mylist):    #enumerate() 인덱스 값을 함께 사용할 수 있는 함수\n",
        "  #print(idx, i, add10(i))\n",
        "  mylist[idx]=add10(i)    #리스트의 값을 add10() 함수가 적용된 값으로 교체\n",
        "print(mylist)"
      ],
      "metadata": {
        "colab": {
          "base_uri": "https://localhost:8080/"
        },
        "id": "PW8msdfiaNzB",
        "outputId": "bc89213f-4c73-4860-9bd0-e4d6a5d8ed11"
      },
      "id": "PW8msdfiaNzB",
      "execution_count": 11,
      "outputs": [
        {
          "output_type": "stream",
          "name": "stdout",
          "text": [
            "[110, 210, 310, 410, 510]\n"
          ]
        }
      ]
    },
    {
      "cell_type": "code",
      "source": [
        "mylist = [100,200,300,400,500]\n",
        "\n",
        "add10 = lambda num: num+10    #lambda() 함수로 변경\n",
        "\n",
        "mylist = list(map(add10, mylist))\n",
        "print(mylist)\n",
        "\n",
        "# print(list(map(add10, mylist))) 같은 의미\n"
      ],
      "metadata": {
        "colab": {
          "base_uri": "https://localhost:8080/"
        },
        "id": "9smew8BWbGvW",
        "outputId": "3235d332-d64f-4c3c-84c8-63806f882bfb"
      },
      "id": "9smew8BWbGvW",
      "execution_count": 12,
      "outputs": [
        {
          "output_type": "stream",
          "name": "stdout",
          "text": [
            "[110, 210, 310, 410, 510]\n"
          ]
        }
      ]
    },
    {
      "cell_type": "markdown",
      "source": [
        "###파이썬 응용 프로그램 만들기 (미션)"
      ],
      "metadata": {
        "id": "PL_2gwDQpTg9"
      },
      "id": "PL_2gwDQpTg9"
    },
    {
      "cell_type": "markdown",
      "source": [
        "####반려견 나이에 적합한 덴탈껌 구매를 할 수 있는 머신 만들기"
      ],
      "metadata": {
        "id": "5j7cVJAjpktI"
      },
      "id": "5j7cVJAjpktI"
    },
    {
      "cell_type": "code",
      "source": [
        "#반려견 나이에 적합한 덴탈껌 구매를 할 수 있는 머신\n",
        "#gum1 = 1-4세, 3000원\n",
        "#gum2 = 5-9세, 4000원\n",
        "#gum3 = 10-15세, 5000원\n",
        "\n",
        "order = '''<반려견 덴탈껌 주문 머신>\n",
        "덴탈껌 1번 : 1-4세, 3000원\n",
        "덴탈껌 2번 : 5-9세, 4000원\n",
        "덴탈껌 3번 : 10-15세, 5000원'''\n",
        "print(order)\n",
        "\n",
        "\n",
        "print('-'*50)\n",
        "print('-'*50)\n",
        "\n",
        "a = int(input(\"반려견의 나이를 입력 해주세요.: \"))\n",
        "\n",
        "print('-'*50)\n",
        "b = (f'반려견 나이에 맞는 덴탈껌을 추천 해 드리겠습니다.')\n",
        "\n",
        "if a <= 4:\n",
        "  print(f'당신의 반려견은 {a}세 입니다. 너무 귀엽고 사랑스럽겠어요!')\n",
        "  print(b)\n",
        "  print(f'{a}세의 반려견에게는 성장과 발육에 좋은 1번 덴탈껌을 추천해요!')\n",
        "elif a <= 9:\n",
        "  print(f'당신의 반려견은 {a}세 입니다. 건강하게 잘 자라준 성견이네요!')\n",
        "  print(b)\n",
        "  print(f'{a}세의 반려견에게는 필요한 영양과 요소들이 함유된 2번 덴탈껌을 추천해요!')\n",
        "else:\n",
        "    print(f'당신의 반려견은 {a}세 입니다. 당신과 오랫동안 함께 지냈네요!')\n",
        "    print(b)\n",
        "    print(f'{a}세의 반려견에게는 관절과 건강에 도움이되는 3번 덴탈껌을 추천해요!')\n",
        "\n",
        "\n",
        "\n",
        "print('-'*50)\n",
        "print(f'30000원 이상 구매시 10% 할인 쿠폰을 드립니다.')\n",
        "gum1 = int(input('구매할 1번 껌의 개수를 입력 해 주세요. : '))\n",
        "gum2 = int(input('구매할 2번 껌의 개수를 입력 해 주세요. : '))\n",
        "gum3 = int(input('구매할 3번 껌의 개수를 입력 해 주세요. : '))\n",
        "\n",
        "\n",
        "print('-'*50)\n",
        "\n",
        "def dogdentalgumMachine(gum1,gum2,gum3):\n",
        "    total = gum1*3000 + gum2*4000 + gum3*5000\n",
        "    unit = gum1 + gum2 + gum3\n",
        "    print(f'총 구매 개수는 {unit}개, 금액은 {total}원 입니다.')\n",
        "    while True:\n",
        "      money = int(input(f'[지불할 금액:{total}] 금액을 넣어주세요.: '))\n",
        "      if total > money :\n",
        "            print(f'입력한 금액이 부족합니다. {(total) - money} 원을 더 넣어주세요.')\n",
        "            total = total - money\n",
        "      else:\n",
        "            print(f'거스름돈은 {money - total}원 입니다.')\n",
        "            break\n",
        "\n",
        "dogdentalgumMachine(gum1,gum2,gum3)\n",
        "\n",
        "\n",
        "total = gum1*3000 + gum2*4000 + gum3*5000\n",
        "if total >= 30000:\n",
        "  print(f'감사합니다, 30000원 이상 구매하셔서 10% 할인 쿠폰이 지급되었습니다.')\n",
        "print('-'*50)\n",
        "print(' 반려견과 즐거운 시간되세요.')\n",
        "\n"
      ],
      "metadata": {
        "colab": {
          "base_uri": "https://localhost:8080/"
        },
        "id": "xSmE-bkBqDOO",
        "outputId": "9a956391-1fdb-4f3b-d1a5-7de84d079d7d"
      },
      "id": "xSmE-bkBqDOO",
      "execution_count": 57,
      "outputs": [
        {
          "output_type": "stream",
          "name": "stdout",
          "text": [
            "<반려견 덴탈껌 주문 머신>\n",
            "덴탈껌 1번 : 1-4세, 3000원\n",
            "덴탈껌 2번 : 5-9세, 4000원\n",
            "덴탈껌 3번 : 10-15세, 5000원\n",
            "--------------------------------------------------\n",
            "--------------------------------------------------\n",
            "반려견의 나이를 입력 해주세요.: 3\n",
            "--------------------------------------------------\n",
            "당신의 반려견은 3세 입니다. 너무 귀엽고 사랑스럽겠어요!\n",
            "반려견 나이에 맞는 덴탈껌을 추천 해 드리겠습니다.\n",
            "3세의 반려견에게는 성장과 발육에 좋은 1번 덴탈껌을 추천해요!\n",
            "--------------------------------------------------\n",
            "30000원 이상 구매시 10% 할인 쿠폰을 드립니다.\n",
            "구매할 1번 껌의 개수를 입력 해 주세요. : 10\n",
            "구매할 2번 껌의 개수를 입력 해 주세요. : 0\n",
            "구매할 3번 껌의 개수를 입력 해 주세요. : 0\n",
            "--------------------------------------------------\n",
            "총 구매 개수는 10개, 금액은 30000원 입니다.\n",
            "[지불할 금액:30000] 금액을 넣어주세요.: 40000\n",
            "거스름돈은 10000원 입니다.\n",
            "감사합니다, 30000원 이상 구매하셔서 10% 할인 쿠폰이 지급되었습니다.\n",
            "--------------------------------------------------\n",
            " 반려견과 즐거운 시간되세요.\n"
          ]
        }
      ]
    },
    {
      "cell_type": "markdown",
      "id": "66025633",
      "metadata": {
        "id": "66025633"
      },
      "source": [
        "끝"
      ]
    }
  ],
  "metadata": {
    "kernelspec": {
      "display_name": "Python 3 (ipykernel)",
      "language": "python",
      "name": "python3"
    },
    "language_info": {
      "codemirror_mode": {
        "name": "ipython",
        "version": 3
      },
      "file_extension": ".py",
      "mimetype": "text/x-python",
      "name": "python",
      "nbconvert_exporter": "python",
      "pygments_lexer": "ipython3",
      "version": "3.10.9"
    },
    "vscode": {
      "interpreter": {
        "hash": "b41e41bff03a930185ac2cbea60ce521f7c8c2f5401ceb5c30214081f77ab4f5"
      }
    },
    "colab": {
      "provenance": [],
      "include_colab_link": true
    }
  },
  "nbformat": 4,
  "nbformat_minor": 5
}